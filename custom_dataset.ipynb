{
 "cells": [
  {
   "attachments": {},
   "cell_type": "markdown",
   "metadata": {},
   "source": [
    "Just give a path to a directory with images (named after the respective word) to ```get_image_paths_and_labels_custom()```"
   ]
  },
  {
   "cell_type": "code",
   "execution_count": 1,
   "metadata": {},
   "outputs": [
    {
     "name": "stdout",
     "output_type": "stream",
     "text": [
      "Requirement already satisfied: Pillow in /usr/local/lib/python3.10/site-packages (9.4.0)\n",
      "\n",
      "\u001b[1m[\u001b[0m\u001b[34;49mnotice\u001b[0m\u001b[1;39;49m]\u001b[0m\u001b[39;49m A new release of pip available: \u001b[0m\u001b[31;49m22.2.2\u001b[0m\u001b[39;49m -> \u001b[0m\u001b[32;49m22.3.1\u001b[0m\n",
      "\u001b[1m[\u001b[0m\u001b[34;49mnotice\u001b[0m\u001b[1;39;49m]\u001b[0m\u001b[39;49m To update, run: \u001b[0m\u001b[32;49mpython3.10 -m pip install --upgrade pip\u001b[0m\n",
      "Note: you may need to restart the kernel to use updated packages.\n"
     ]
    }
   ],
   "source": [
    "%pip install Pillow"
   ]
  },
  {
   "cell_type": "code",
   "execution_count": 3,
   "metadata": {},
   "outputs": [
    {
     "name": "stdout",
     "output_type": "stream",
     "text": [
      "(['images/grayscale/imagin.png'], ['imagin'])\n"
     ]
    }
   ],
   "source": [
    "import os\n",
    "from PIL import Image\n",
    "\n",
    "def convert_to_grayscale(image_path):\n",
    "    img = Image.open(image_path).convert('L')\n",
    "    return img\n",
    "    \n",
    "def get_image_paths_and_labels_custom(basepath):\n",
    "    paths = []\n",
    "    labels = []\n",
    "\n",
    "    for filename in os.listdir(basepath):\n",
    "        image_path = os.path.join(basepath, filename)\n",
    "        image_grayscale_path = os.path.join(basepath, 'grayscale', filename)\n",
    "\n",
    "        os.mkdir(os.path.join(basepath, 'grayscale'))\n",
    "\n",
    "        image_grayscale = convert_to_grayscale(image_path).save(image_grayscale_path)\n",
    "\n",
    "        paths.append(image_grayscale_path)\n",
    "        labels.append(os.path.splitext(filename)[0])\n",
    "\n",
    "    return paths, labels\n",
    "\n",
    "print(get_image_paths_and_labels_custom(\"images\"))"
   ]
  }
 ],
 "metadata": {
  "kernelspec": {
   "display_name": "Python 3",
   "language": "python",
   "name": "python3"
  },
  "language_info": {
   "codemirror_mode": {
    "name": "ipython",
    "version": 3
   },
   "file_extension": ".py",
   "mimetype": "text/x-python",
   "name": "python",
   "nbconvert_exporter": "python",
   "pygments_lexer": "ipython3",
   "version": "3.10.8"
  },
  "orig_nbformat": 4,
  "vscode": {
   "interpreter": {
    "hash": "aee8b7b246df8f9039afb4144a1f6fd8d2ca17a180786b69acc140d282b71a49"
   }
  }
 },
 "nbformat": 4,
 "nbformat_minor": 2
}
